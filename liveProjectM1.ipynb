{
 "cells": [
  {
   "cell_type": "code",
   "execution_count": 1,
   "metadata": {},
   "outputs": [],
   "source": [
    "import tensorflow\n",
    "from tensorflow.keras.datasets import mnist \n",
    "from tensorflow.keras.layers import Dense, Activation, Flatten, Conv2D, MaxPooling2D, Dropout\n",
    "from tensorflow.keras.models import Sequential\n",
    "from tensorflow.keras.utils import to_categorical\n",
    "from tensorflow.keras.models import load_model\n",
    "import numpy as np\n",
    "import matplotlib.pyplot as plt"
   ]
  },
  {
   "cell_type": "code",
   "execution_count": 2,
   "metadata": {},
   "outputs": [],
   "source": [
    "(train_X,train_Y), (test_X,test_Y) = mnist.load_data()\n",
    "train_X = train_X.reshape(-1, 28,28, 1)\n",
    "test_X = test_X.reshape(-1, 28,28, 1)"
   ]
  },
  {
   "cell_type": "code",
   "execution_count": 3,
   "metadata": {},
   "outputs": [],
   "source": [
    "train_X = train_X.astype('float32')\n",
    "test_X = test_X.astype('float32')\n",
    "train_X = train_X / 255\n",
    "test_X = test_X / 255\n"
   ]
  },
  {
   "cell_type": "code",
   "execution_count": null,
   "metadata": {},
   "outputs": [],
   "source": []
  },
  {
   "cell_type": "code",
   "execution_count": 4,
   "metadata": {},
   "outputs": [],
   "source": [
    "model = Sequential()\n",
    "model.add(Conv2D(64, (3,3), input_shape=(28, 28, 1)))\n",
    "model.add(Activation('relu'))\n",
    "model.add(MaxPooling2D(pool_size=(2,2)))\n",
    "model.add(Conv2D(32, (3,3)))\n",
    "model.add(Activation('relu'))\n",
    "model.add(MaxPooling2D(pool_size=(2,2)))\n",
    "model.add(Dropout(0.25))\n",
    "model.add(Flatten())\n",
    "model.add(Dense(128))\n",
    "model.add(Dropout(0.5))\n",
    "model.add(Dense(10))\n",
    "model.add(Activation('softmax'))"
   ]
  },
  {
   "cell_type": "code",
   "execution_count": null,
   "metadata": {},
   "outputs": [],
   "source": []
  },
  {
   "cell_type": "code",
   "execution_count": 5,
   "metadata": {},
   "outputs": [],
   "source": [
    "model.compile(optimizer='adam',\n",
    "              loss='sparse_categorical_crossentropy',\n",
    "              metrics=['accuracy'])"
   ]
  },
  {
   "cell_type": "code",
   "execution_count": null,
   "metadata": {},
   "outputs": [],
   "source": []
  },
  {
   "cell_type": "code",
   "execution_count": 6,
   "metadata": {},
   "outputs": [
    {
     "name": "stdout",
     "output_type": "stream",
     "text": [
      "Epoch 1/20\n",
      "   1/1500 [..............................] - ETA: 0s - loss: 2.2467 - accuracy: 0.0938WARNING:tensorflow:From /home/tony/.virtualenvs/TF2/lib/python3.7/site-packages/tensorflow/python/ops/summary_ops_v2.py:1277: stop (from tensorflow.python.eager.profiler) is deprecated and will be removed after 2020-07-01.\n",
      "Instructions for updating:\n",
      "use `tf.profiler.experimental.stop` instead.\n",
      "1500/1500 [==============================] - 12s 8ms/step - loss: 0.2282 - accuracy: 0.9281 - val_loss: 0.0610 - val_accuracy: 0.9822\n",
      "Epoch 2/20\n",
      "1500/1500 [==============================] - 12s 8ms/step - loss: 0.0906 - accuracy: 0.9733 - val_loss: 0.0545 - val_accuracy: 0.9844\n",
      "Epoch 3/20\n",
      "1500/1500 [==============================] - 12s 8ms/step - loss: 0.0709 - accuracy: 0.9779 - val_loss: 0.0466 - val_accuracy: 0.9871\n",
      "Epoch 4/20\n",
      "1500/1500 [==============================] - 12s 8ms/step - loss: 0.0584 - accuracy: 0.9820 - val_loss: 0.0426 - val_accuracy: 0.9876\n",
      "Epoch 5/20\n",
      "1500/1500 [==============================] - 12s 8ms/step - loss: 0.0519 - accuracy: 0.9843 - val_loss: 0.0404 - val_accuracy: 0.9888\n",
      "Epoch 6/20\n",
      "1500/1500 [==============================] - 12s 8ms/step - loss: 0.0474 - accuracy: 0.9849 - val_loss: 0.0399 - val_accuracy: 0.9887\n",
      "Epoch 7/20\n",
      "1500/1500 [==============================] - 12s 8ms/step - loss: 0.0439 - accuracy: 0.9861 - val_loss: 0.0393 - val_accuracy: 0.9896\n",
      "Epoch 8/20\n",
      "1500/1500 [==============================] - 12s 8ms/step - loss: 0.0434 - accuracy: 0.9864 - val_loss: 0.0382 - val_accuracy: 0.9893\n",
      "Epoch 9/20\n",
      "1500/1500 [==============================] - 12s 8ms/step - loss: 0.0420 - accuracy: 0.9860 - val_loss: 0.0314 - val_accuracy: 0.9913\n",
      "Epoch 10/20\n",
      "1500/1500 [==============================] - 12s 8ms/step - loss: 0.0385 - accuracy: 0.9874 - val_loss: 0.0325 - val_accuracy: 0.9906\n",
      "Epoch 11/20\n",
      "1500/1500 [==============================] - 12s 8ms/step - loss: 0.0361 - accuracy: 0.9883 - val_loss: 0.0314 - val_accuracy: 0.9906\n",
      "Epoch 12/20\n",
      "1500/1500 [==============================] - 12s 8ms/step - loss: 0.0350 - accuracy: 0.9891 - val_loss: 0.0320 - val_accuracy: 0.9918\n",
      "Epoch 13/20\n",
      "1500/1500 [==============================] - 12s 8ms/step - loss: 0.0334 - accuracy: 0.9890 - val_loss: 0.0324 - val_accuracy: 0.9907\n",
      "Epoch 14/20\n",
      "1500/1500 [==============================] - 12s 8ms/step - loss: 0.0317 - accuracy: 0.9898 - val_loss: 0.0355 - val_accuracy: 0.9901\n",
      "Epoch 15/20\n",
      "1500/1500 [==============================] - 12s 8ms/step - loss: 0.0343 - accuracy: 0.9892 - val_loss: 0.0329 - val_accuracy: 0.9918\n",
      "Epoch 16/20\n",
      "1500/1500 [==============================] - 12s 8ms/step - loss: 0.0296 - accuracy: 0.9901 - val_loss: 0.0346 - val_accuracy: 0.9908\n",
      "Epoch 17/20\n",
      "1500/1500 [==============================] - 12s 8ms/step - loss: 0.0301 - accuracy: 0.9905 - val_loss: 0.0333 - val_accuracy: 0.9912\n",
      "Epoch 18/20\n",
      "1500/1500 [==============================] - 12s 8ms/step - loss: 0.0290 - accuracy: 0.9906 - val_loss: 0.0348 - val_accuracy: 0.9906\n",
      "Epoch 19/20\n",
      "1500/1500 [==============================] - 12s 8ms/step - loss: 0.0247 - accuracy: 0.9921 - val_loss: 0.0373 - val_accuracy: 0.9902\n",
      "Epoch 20/20\n",
      "1500/1500 [==============================] - 12s 8ms/step - loss: 0.0274 - accuracy: 0.9910 - val_loss: 0.0393 - val_accuracy: 0.9910\n"
     ]
    }
   ],
   "source": [
    "tensorboard_callback = tensorflow.keras.callbacks.TensorBoard(log_dir=\"./logs\")\n",
    "with tensorflow.device('/cpu:0'):\n",
    "    history = model.fit(train_X, train_Y, batch_size=32, validation_split=0.2,epochs=20, callbacks=tensorboard_callback)"
   ]
  },
  {
   "cell_type": "code",
   "execution_count": 7,
   "metadata": {},
   "outputs": [
    {
     "name": "stdout",
     "output_type": "stream",
     "text": [
      "313/313 [==============================] - 1s 3ms/step - loss: 0.0286 - accuracy: 0.9911\n"
     ]
    }
   ],
   "source": [
    "with tensorflow.device('/cpu:0'):\n",
    "    model.evaluate(test_X, test_Y)"
   ]
  },
  {
   "cell_type": "code",
   "execution_count": 8,
   "metadata": {},
   "outputs": [
    {
     "name": "stdout",
     "output_type": "stream",
     "text": [
      "WARNING:tensorflow:From /home/tony/.virtualenvs/TF2/lib/python3.7/site-packages/tensorflow/python/training/tracking/tracking.py:111: Model.state_updates (from tensorflow.python.keras.engine.training) is deprecated and will be removed in a future version.\n",
      "Instructions for updating:\n",
      "This property should not be used in TensorFlow 2.0, as updates are applied automatically.\n",
      "WARNING:tensorflow:From /home/tony/.virtualenvs/TF2/lib/python3.7/site-packages/tensorflow/python/training/tracking/tracking.py:111: Layer.updates (from tensorflow.python.keras.engine.base_layer) is deprecated and will be removed in a future version.\n",
      "Instructions for updating:\n",
      "This property should not be used in TensorFlow 2.0, as updates are applied automatically.\n",
      "INFO:tensorflow:Assets written to: ./model/assets\n"
     ]
    }
   ],
   "source": [
    "model.save('./model')"
   ]
  },
  {
   "cell_type": "code",
   "execution_count": 9,
   "metadata": {},
   "outputs": [
    {
     "data": {
      "image/png": "[encoded data removed]",
      "text/plain": [
       "<Figure size 432x288 with 1 Axes>"
      ]
     },
     "metadata": {
      "needs_background": "light"
     },
     "output_type": "display_data"
    },
    {
     "data": {
      "image/png": "[encoded data removed]",
      "text/plain": [
       "<Figure size 432x288 with 1 Axes>"
      ]
     },
     "metadata": {
      "needs_background": "light"
     },
     "output_type": "display_data"
    }
   ],
   "source": [
    "# Plot history: MAE: Mean Absolute Error\n",
    "plt.plot(history.history['loss'], label='MAE (training data)')\n",
    "plt.plot(history.history['val_loss'], label='MAE (validation data)')\n",
    "plt.title('MAE MNIST')\n",
    "plt.ylabel('MAE value')\n",
    "plt.xlabel('No. epoch')\n",
    "plt.legend(loc=\"upper left\")\n",
    "plt.show()\n",
    "\n",
    "# Plot history: ACC: MAccuracy\n",
    "plt.plot(history.history['accuracy'], label='ACC (training data)')\n",
    "plt.plot(history.history['val_accuracy'], label='ACC (validation data)')\n",
    "plt.title('ACC MNIST')\n",
    "plt.ylabel('ACC value')\n",
    "plt.xlabel('No. epoch')\n",
    "plt.legend(loc=\"upper left\")\n",
    "plt.show()"
   ]
  },
  {
   "cell_type": "code",
   "execution_count": 10,
   "metadata": {},
   "outputs": [
    {
     "data": {
      "image/png": "[encoded data removed]",
      "text/plain": [
       "<Figure size 432x288 with 1 Axes>"
      ]
     },
     "metadata": {
      "needs_background": "light"
     },
     "output_type": "display_data"
    },
    {
     "data": {
      "image/png": "[encoded data removed]",
      "text/plain": [
       "<Figure size 432x288 with 1 Axes>"
      ]
     },
     "metadata": {
      "needs_background": "light"
     },
     "output_type": "display_data"
    },
    {
     "data": {
      "image/png": "[encoded data removed]",
      "text/plain": [
       "<Figure size 432x288 with 1 Axes>"
      ]
     },
     "metadata": {
      "needs_background": "light"
     },
     "output_type": "display_data"
    },
    {
     "data": {
      "image/png": "[encoded data removed]",
      "text/plain": [
       "<Figure size 432x288 with 1 Axes>"
      ]
     },
     "metadata": {
      "needs_background": "light"
     },
     "output_type": "display_data"
    }
   ],
   "source": [
    "sample_ims = [15, 838, 939, 2789]\n",
    "to_predict = []\n",
    "# Generate plots for samples\n",
    "for smp in sample_ims:\n",
    "  # Generate a plot\n",
    "  im = train_X[smp].reshape((28, 28))\n",
    "  plt.imshow(im)\n",
    "  plt.show()\n",
    "  # Add sample to array for prediction\n",
    "  to_predict.append(train_X[smp]) "
   ]
  },
  {
   "cell_type": "code",
   "execution_count": 12,
   "metadata": {},
   "outputs": [
    {
     "name": "stdout",
     "output_type": "stream",
     "text": [
      "[7 1 6 6]\n"
     ]
    }
   ],
   "source": [
    "to_predict = np.array(to_predict)\n",
    "#print(to_predict.shape)\n",
    "predictions = model.predict(to_predict)\n",
    "#print(predictions)\n",
    "digits = np.argmax(predictions, axis = 1)\n",
    "print(digits)"
   ]
  },
  {
   "cell_type": "code",
   "execution_count": null,
   "metadata": {},
   "outputs": [],
   "source": []
  }
 ],
 "metadata": {
  "kernelspec": {
   "display_name": "Python 3",
   "language": "python",
   "name": "python3"
  },
  "language_info": {
   "codemirror_mode": {
    "name": "ipython",
    "version": 3
   },
   "file_extension": ".py",
   "mimetype": "text/x-python",
   "name": "python",
   "nbconvert_exporter": "python",
   "pygments_lexer": "ipython3",
   "version": "3.7.3"
  },
  "toc": {
   "base_numbering": 1,
   "nav_menu": {},
   "number_sections": true,
   "sideBar": true,
   "skip_h1_title": false,
   "title_cell": "Table of Contents",
   "title_sidebar": "Contents",
   "toc_cell": false,
   "toc_position": {},
   "toc_section_display": true,
   "toc_window_display": false
  }
 },
 "nbformat": 4,
 "nbformat_minor": 2
}
